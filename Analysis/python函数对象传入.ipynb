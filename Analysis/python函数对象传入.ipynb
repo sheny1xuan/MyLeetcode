{
 "metadata": {
  "language_info": {
   "codemirror_mode": {
    "name": "ipython",
    "version": 3
   },
   "file_extension": ".py",
   "mimetype": "text/x-python",
   "name": "python",
   "nbconvert_exporter": "python",
   "pygments_lexer": "ipython3",
   "version": "3.8.3"
  },
  "orig_nbformat": 2,
  "kernelspec": {
   "name": "python383jvsc74a57bd007efdcd4b820c98a756949507a4d29d7862823915ec7477944641bea022f4f62",
   "display_name": "Python 3.8.3 64-bit ('base': conda)"
  },
  "metadata": {
   "interpreter": {
    "hash": "d80af1af5580a5b703aee4daaac61625cf11f4db772547afe18c68e22f32280c"
   }
  }
 },
 "nbformat": 4,
 "nbformat_minor": 2,
 "cells": [
  {
   "source": [
    "# python对象参数传入\n",
    "+ 这里叫python对象参数的传入而不叫python参数的传入，是因为python中一切都是对象。\n",
    "+ 变量的赋值只是将变量指向了某个对象，并没有拷贝对象给变量。一个对象可以被多个变量指向。\n",
    "+ 没有实例化对象并不会分配新的内存。\n",
    "\n",
    "## 对象种类\n",
    "\n",
    "### 不可变对象\n",
    "+ 数字，字符串，元祖等。引用不可变对象不能改变不可变对象的值，所以不会影响其他引用该对象变量的值。\n",
    "但是可以通过某些操作(运算等)可以产生新的不可变对象。\n",
    "+ 下面例子中，首先初始化数字a，相当于实例化一个int对象。\n",
    "+ b引用数字a，并没有为b分配新的内存，a，b都指向相同的内存地址。\n",
    "+ 当对a执行加法运算时，返回一个新的int对象，指向另一个内存地址。\n"
   ],
   "cell_type": "markdown",
   "metadata": {}
  },
  {
   "cell_type": "code",
   "execution_count": 2,
   "metadata": {},
   "outputs": [
    {
     "output_type": "stream",
     "name": "stdout",
     "text": [
      "PosA:140707950245952\n<class 'int'>\nPosB:140707950245952\nPosA_change:140707950245984\na:11, b:10\nBytes of a:28\n"
     ]
    }
   ],
   "source": [
    "import sys\n",
    "\n",
    "num_a = 10\n",
    "print(\"PosA:\"+str(id(num_a)))\n",
    "print(type(num_a))\n",
    "num_b = num_a\n",
    "print(\"PosB:\"+str(id(num_b)))\n",
    "num_a = num_a + 1\n",
    "print(\"PosA_change:\"+str(id(num_a)))\n",
    "print(\"a:%d, b:%d\"%(num_a, num_b))\n",
    "\n",
    "print(\"Bytes of a:\"+str(sys.getsizeof(num_a)))"
   ]
  },
  {
   "source": [
    "### 可变对象\n",
    "+ 列表，字典，集合等自定义对象。这类对象可以发生改变，因此改变某一个该对象引用的值会影响所有引用该对象的变量。\n",
    "+ l2引用l1,l1值变化会影响l2。\n"
   ],
   "cell_type": "markdown",
   "metadata": {}
  },
  {
   "cell_type": "code",
   "execution_count": 3,
   "metadata": {},
   "outputs": [
    {
     "output_type": "stream",
     "name": "stdout",
     "text": [
      "[2, 2]\n[2, 2]\n"
     ]
    }
   ],
   "source": [
    "l1 = [1, 2]\n",
    "l2 = l1\n",
    "l1[0] = 2\n",
    "print(l1)\n",
    "print(l2)"
   ]
  },
  {
   "source": [
    "\n",
    "## 函数传入的是对象的引用\n",
    "\n",
    "+ 将对象传入函数，相当于产生了一个新的对象引用。\n",
    "+ 如函数有cal(a\\_),调用cal(a)，相当于产生了一个引用对象a\\_与a引用相同的对象\n",
    "\n",
    "### 不可变对象传入函数\n",
    "+ 不可变对象传入函数时，相当于对不可变对象的引用。\n",
    "+ 如下所示，传入int类，传入变量的地址与原变量地址相同。\n",
    "+ 但是经过运算后，c_变成了新的int对象，并不会影响函数外对象的值。"
   ],
   "cell_type": "markdown",
   "metadata": {}
  },
  {
   "cell_type": "code",
   "execution_count": 4,
   "metadata": {},
   "outputs": [
    {
     "output_type": "stream",
     "name": "stdout",
     "text": [
      "Original address:140707950245664\nPass before change:140707950245664\nPass change:140707950245696\n1\n"
     ]
    }
   ],
   "source": [
    "def cal(c_):\n",
    "    print(\"Pass before change:\"+str(id(c_)))\n",
    "    c_ += 1\n",
    "    print(\"Pass change:\"+str(id(c_)))\n",
    "a = 1\n",
    "print(\"Original address:\"+str(id(a)))\n",
    "cal(a)\n",
    "print(a)"
   ]
  },
  {
   "cell_type": "code",
   "execution_count": null,
   "metadata": {},
   "outputs": [],
   "source": []
  },
  {
   "source": [
    "### 可变对象传入参数\n",
    "+ 可变对象传入参数相当于对可变对象的引用。\n",
    "#### exercise1\n",
    "+ 可变对象传入参数会改变所有引用该对象的变量。"
   ],
   "cell_type": "markdown",
   "metadata": {}
  },
  {
   "cell_type": "code",
   "execution_count": 6,
   "metadata": {},
   "outputs": [
    {
     "output_type": "stream",
     "name": "stdout",
     "text": [
      "[1, 1, 3]\n[1, 1, 3]\n"
     ]
    }
   ],
   "source": [
    "l1 = [1, 2, 3]\n",
    "l2 = l1\n",
    "def change2(l1_):\n",
    "    l1_[1] = 1\n",
    "change2(l1)\n",
    "print(l2)\n",
    "print(l1)"
   ]
  },
  {
   "source": [
    "#### exercise2\n",
    "+ 类似于不可变对象，可变对象参数传入如果指向了新的对象并不会改变原对象的值。\n",
    "+ 下面例子中，l1\\_是对l1的引用，但是由于l1\\_指向了新的对象，所以并不会改变原对象l1的值。"
   ],
   "cell_type": "markdown",
   "metadata": {}
  },
  {
   "cell_type": "code",
   "execution_count": 7,
   "metadata": {},
   "outputs": [
    {
     "output_type": "stream",
     "name": "stdout",
     "text": [
      "[1, 2, 3]\n"
     ]
    }
   ],
   "source": [
    "l1 = [1, 2, 3]\n",
    "def change2(l1_):\n",
    "    l1_ = [2, 3, 4]\n",
    "change2(l1)\n",
    "print(l1)"
   ]
  },
  {
   "source": [
    "## 总结\n",
    "+ python一切变量都是对象，分为可变对象和不可变对象两类。\n",
    "+ 不可变对象(数字，字符串，元祖)值不能改变，但是通过一些运算会产生新的不可变对象。\n",
    "+ 可变对象值可以改变，所有引用该对象的值都会改变。\n",
    "+ 函数参数的传入相当于产生了一个新的对象引用。\n",
    "    + 注意新的对象引用如果指向了别的对象，则不能改变原来对象的值。(exercise2)"
   ],
   "cell_type": "markdown",
   "metadata": {}
  }
 ]
}